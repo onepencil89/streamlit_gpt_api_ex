{
 "cells": [
  {
   "cell_type": "markdown",
   "id": "8bbe3f6b",
   "metadata": {},
   "source": [
    "# open API key 테스트"
   ]
  },
  {
   "cell_type": "code",
   "execution_count": null,
   "id": "d36d7f2d",
   "metadata": {},
   "outputs": [],
   "source": [
    "# audio_file_path = \"datas/news.mp3\"\n",
    "# with open(audio_file_path, 'rb') as audio_file:\n",
    "#     transcription = client.audio.transcriptions.create(\n",
    "#     model=\"whisper-1\",\n",
    "#     file=audio_file,\n",
    "#     response_format=\"text\"\n",
    "#     )"
   ]
  },
  {
   "cell_type": "markdown",
   "id": "b71cf711",
   "metadata": {},
   "source": [
    "## API key 로딩"
   ]
  },
  {
   "cell_type": "code",
   "execution_count": null,
   "id": "64b80859",
   "metadata": {},
   "outputs": [],
   "source": [
    "from dotenv import load_dotenv\n",
    "import os\n",
    "\n",
    "# 환경변수 로딩\n",
    "load_dotenv(override=True)\n",
    "\n",
    "# 메모리에 로딩된 값을 api_key 변수에 대입\n",
    "OPENAI_API_KEY = os.environ.get(\"OPENAI_API_KEY\")\n",
    "# print(OPENAI_API_KEY)\n",
    "\n"
   ]
  },
  {
   "cell_type": "markdown",
   "id": "8e2757bc",
   "metadata": {},
   "source": [
    "## 라이브러리 로딩 및 객체 생성"
   ]
  },
  {
   "cell_type": "markdown",
   "id": "0a6d0219",
   "metadata": {},
   "source": []
  },
  {
   "cell_type": "code",
   "execution_count": null,
   "id": "cad5204d",
   "metadata": {},
   "outputs": [],
   "source": [
    "# OpenAI 객체 생성\n",
    "from openai import OpenAI\n",
    "client = OpenAI(api_key=OPENAI_API_KEY)"
   ]
  },
  {
   "cell_type": "code",
   "execution_count": 7,
   "id": "a637edcb",
   "metadata": {},
   "outputs": [
    {
     "name": "stdout",
     "output_type": "stream",
     "text": [
      "ChatCompletionMessage(content='전세계에서 현재 가장 많이 사용되는 프로그래밍 언어들은 다음과 같습니다:\\n\\n1. JavaScript\\n2. Python\\n3. Java\\n4. C#\\n5. PHP\\n\\n이러한 언어들은 다양한 분야에서 사용되며, 각각의 특징에 따라 적합한 프로젝트나 작업에 사용됩니다.', refusal=None, role='assistant', annotations=[], audio=None, function_call=None, tool_calls=None)\n"
     ]
    }
   ],
   "source": [
    "completion = client.chat.completions.create(\n",
    "  model=\"gpt-3.5-turbo\",\n",
    "  messages=[\n",
    "    {\"role\": \"system\", \"content\": \"너는 IT전문가야.\"},\n",
    "    {\"role\": \"user\", \"content\": \"전세계서 가장 많이 사용하는 프로그래밍 언어 top5를 얘기해줘\"}\n",
    "  ]\n",
    ")\n",
    "\n",
    "print(completion.choices[0].message)"
   ]
  }
 ],
 "metadata": {
  "kernelspec": {
   "display_name": "gpt_env",
   "language": "python",
   "name": "python3"
  },
  "language_info": {
   "codemirror_mode": {
    "name": "ipython",
    "version": 3
   },
   "file_extension": ".py",
   "mimetype": "text/x-python",
   "name": "python",
   "nbconvert_exporter": "python",
   "pygments_lexer": "ipython3",
   "version": "3.12.12"
  }
 },
 "nbformat": 4,
 "nbformat_minor": 5
}
